{
 "cells": [
  {
   "cell_type": "code",
   "execution_count": 12,
   "id": "breathing-income",
   "metadata": {},
   "outputs": [
    {
     "name": "stdin",
     "output_type": "stream",
     "text": [
      "Enter your name:  Calvin\n"
     ]
    },
    {
     "name": "stdout",
     "output_type": "stream",
     "text": [
      "Hi, Calvin!\n"
     ]
    },
    {
     "name": "stdin",
     "output_type": "stream",
     "text": [
      "Enter a number:  5\n"
     ]
    },
    {
     "name": "stdout",
     "output_type": "stream",
     "text": [
      "Hi, Calvin #1\n",
      "Hi, Calvin #2\n",
      "Hi, Calvin #3\n",
      "Hi, Calvin #4\n",
      "Hi, Calvin #5\n"
     ]
    }
   ],
   "source": [
    "name = input(prompt=\"Enter your name: \")\n",
    "print(\"Hi,\",name + \"!\")\n",
    "count = int(input(prompt=\"Enter a number: \"))\n",
    "\n",
    "i = 1\n",
    "\n",
    "while i <= count:\n",
    "    print(\"Hi, \" + name + \" #\" + str(i))\n",
    "    i += 1"
   ]
  },
  {
   "cell_type": "code",
   "execution_count": null,
   "id": "based-rwanda",
   "metadata": {},
   "outputs": [],
   "source": []
  }
 ],
 "metadata": {
  "kernelspec": {
   "display_name": "Python 3",
   "language": "python",
   "name": "python3"
  },
  "language_info": {
   "codemirror_mode": {
    "name": "ipython",
    "version": 3
   },
   "file_extension": ".py",
   "mimetype": "text/x-python",
   "name": "python",
   "nbconvert_exporter": "python",
   "pygments_lexer": "ipython3",
   "version": "3.7.7"
  }
 },
 "nbformat": 4,
 "nbformat_minor": 5
}
