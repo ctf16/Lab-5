{
 "cells": [
  {
   "cell_type": "code",
   "execution_count": 1,
   "id": "iraqi-trinity",
   "metadata": {},
   "outputs": [
    {
     "name": "stdin",
     "output_type": "stream",
     "text": [
      "what is your name Hey\n",
      "what is your age 56\n"
     ]
    },
    {
     "name": "stdout",
     "output_type": "stream",
     "text": [
      "Hey is  56 years old\n"
     ]
    }
   ],
   "source": [
    "name = input(\"what is your name\" )\n",
    "age = int(input(\"what is your age\" ))\n",
    "print(name, \"is \" , age, \"years old\" )"
   ]
  },
  {
   "cell_type": "code",
   "execution_count": null,
   "id": "growing-state",
   "metadata": {},
   "outputs": [],
   "source": []
  }
 ],
 "metadata": {
  "kernelspec": {
   "display_name": "Python 3",
   "language": "python",
   "name": "python3"
  },
  "language_info": {
   "codemirror_mode": {
    "name": "ipython",
    "version": 3
   },
   "file_extension": ".py",
   "mimetype": "text/x-python",
   "name": "python",
   "nbconvert_exporter": "python",
   "pygments_lexer": "ipython3",
   "version": "3.8.5"
  }
 },
 "nbformat": 4,
 "nbformat_minor": 5
}
